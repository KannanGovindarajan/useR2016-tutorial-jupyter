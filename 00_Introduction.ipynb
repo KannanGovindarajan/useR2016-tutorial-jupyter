{
 "cells": [
  {
   "cell_type": "markdown",
   "metadata": {
    "slideshow": {
     "slide_type": "slide"
    }
   },
   "source": [
    "# Welcome\n",
    "\n",
    "https://github.com/michhar/useR2016-tutorial-jupyter\n"
   ]
  },
  {
   "cell_type": "markdown",
   "metadata": {
    "slideshow": {
     "slide_type": "slide"
    }
   },
   "source": [
    "# Housekeeping\n",
    "\n",
    "1. Ask questions at any time\n",
    "2. Use the sticky note for:\n",
    "  - Red: I want help\n",
    "  - Green: All is good"
   ]
  },
  {
   "cell_type": "markdown",
   "metadata": {
    "slideshow": {
     "slide_type": "slide"
    }
   },
   "source": [
    "# Quick Poll"
   ]
  },
  {
   "cell_type": "markdown",
   "metadata": {
    "slideshow": {
     "slide_type": "fragment"
    }
   },
   "source": [
    "* Have you used Jupyter notebooks before?"
   ]
  },
  {
   "cell_type": "markdown",
   "metadata": {
    "slideshow": {
     "slide_type": "fragment"
    }
   },
   "source": [
    "* Are you familiar with markdown syntax?"
   ]
  },
  {
   "cell_type": "markdown",
   "metadata": {
    "slideshow": {
     "slide_type": "slide"
    }
   },
   "source": [
    "# What is a Jupyter notebook?\n",
    "\n",
    "* Interactive environment for running code\n",
    "* A way to mix text (markdown) and code\n",
    "* A way to create reports\n",
    "* A way to share samples and code snippets\n",
    "* A dynamic way of teaching"
   ]
  },
  {
   "cell_type": "markdown",
   "metadata": {
    "slideshow": {
     "slide_type": "slide"
    }
   },
   "source": [
    "# In today's session\n",
    "\n",
    "Item|Topic|Duration|Start time\n",
    "----|-----|--------|---------\n",
    " |Welcome|10|09:00\n",
    "1|History and perspective|10|09:10\n",
    "2|How does Jupyter work?|10|09:20\n",
    "3|Working with notebooks, using image example|30|09:30\n",
    "4|Notebooks and reproducible research|15|10:00\n",
    "5|Lab - image analysis|30|10:15\n",
    " |---- BREAK ---|30|10:45\n",
    "6|Jupyter Notebooks in the Azure Cloud|15|11:15\n",
    "7|Teaching concepts with notebooks|15|11:30\n",
    "8|Wrap up|15|11:45\n",
    " | | |12:00\n",
    "\n",
    "\n"
   ]
  },
  {
   "cell_type": "markdown",
   "metadata": {
    "slideshow": {
     "slide_type": "slide"
    }
   },
   "source": [
    "# Log in to your notebook environment\n",
    "\n",
    "You should have:\n",
    "\n",
    "* URL\n",
    "* User ID\n",
    "* Password\n",
    "\n",
    "In a browser (preferably chrome), navigate to the URL.\n",
    "\n",
    "Log in using your ID and password\n"
   ]
  }
 ],
 "metadata": {
  "celltoolbar": "Slideshow",
  "kernelspec": {
   "display_name": "R",
   "language": "R",
   "name": "ir"
  },
  "language_info": {
   "codemirror_mode": "r",
   "file_extension": ".r",
   "mimetype": "text/x-r-source",
   "name": "R",
   "pygments_lexer": "r",
   "version": "3.2.2"
  }
 },
 "nbformat": 4,
 "nbformat_minor": 0
}
