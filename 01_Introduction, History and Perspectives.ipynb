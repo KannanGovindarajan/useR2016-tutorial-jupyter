{
 "cells": [
  {
   "cell_type": "markdown",
   "metadata": {
    "slideshow": {
     "slide_type": "slide"
    }
   },
   "source": [
    "# Introduction and Perspectives"
   ]
  },
  {
   "cell_type": "markdown",
   "metadata": {
    "slideshow": {
     "slide_type": "slide"
    }
   },
   "source": [
    "## What's so special about Jupyter notebooks?\n",
    "\n",
    "Jupyter's power is in having code, data, and text all accessible from **one file viewed in a browser**, living locally or in the cloud.  The Jupyter Project used to be part of the IPython Project and has spun off.  It supports over 40 different languages (see this [article](https://github.com/ipython/ipython/wiki/IPython-kernels-for-other-languages)) and that is actively growing."
   ]
  },
  {
   "cell_type": "markdown",
   "metadata": {
    "slideshow": {
     "slide_type": "slide"
    }
   },
   "source": [
    "## Text bits\n",
    "\n",
    "The text is written in __markdown__, making it a rich format with inserting latex, links, images and html, too (because we're in a browser), *however* the **philosophy** of markdown is above all else to make it readible in a rendered or plain text format.  "
   ]
  },
  {
   "cell_type": "markdown",
   "metadata": {
    "slideshow": {
     "slide_type": "slide"
    }
   },
   "source": [
    "## The \"new\" wave on the block (at least R-flavored notebooks)\n",
    "\n",
    "Amazing fact: in 2014, there were 80,000 jupyter notebooks on github.  In 2015 the number almost tripled to 230,000.  This shows how popular and fast-growing the usage is in the community. \n",
    "\n",
    "- github numbers from article by Alex Perrier [here](https://www.opendatascience.com/blog/jupyter-zeppelin-beaker-the-rise-of-the-notebooks/)"
   ]
  },
  {
   "cell_type": "markdown",
   "metadata": {
    "slideshow": {
     "slide_type": "slide"
    }
   },
   "source": [
    "## Let's go over some notebook anatomy in a different notebook\n",
    "\n",
    "Let's go to [02.General anatomy.ipynb](notebook_basics/02.General anatomy.ipynb) (also in this repo under notebook_basics)"
   ]
  },
  {
   "cell_type": "markdown",
   "metadata": {
    "slideshow": {
     "slide_type": "slide"
    }
   },
   "source": [
    "### Practicing our shortcuts"
   ]
  },
  {
   "cell_type": "code",
   "execution_count": null,
   "metadata": {
    "collapsed": true,
    "slideshow": {
     "slide_type": "subslide"
    }
   },
   "outputs": [],
   "source": [
    "## Turn this cell into a markdown cell and render"
   ]
  },
  {
   "cell_type": "markdown",
   "metadata": {
    "ExecuteTime": {
     "end_time": "2016-06-26T13:03:20.908253",
     "start_time": "2016-06-26T20:03:20.722Z"
    },
    "slideshow": {
     "slide_type": "subslide"
    }
   },
   "source": [
    "#### turn this cell into code and run it\n",
    "x <- 1:25\n",
    "y <- jitter(seq(1, 50, 2), 4)\n",
    "length(y)\n",
    "model <- lm(y~x)\n",
    "summary(model)\n",
    "plot(x, y)"
   ]
  },
  {
   "cell_type": "code",
   "execution_count": 27,
   "metadata": {
    "ExecuteTime": {
     "end_time": "2016-06-26T13:08:06.472497",
     "start_time": "2016-06-26T20:08:06.420Z"
    },
    "collapsed": false,
    "slideshow": {
     "slide_type": "subslide"
    }
   },
   "outputs": [
    {
     "name": "stdout",
     "output_type": "stream",
     "text": [
      "[[1]]\n",
      "[1] 0\n",
      "\n",
      "[[2]]\n",
      "[1] 0.0625\n",
      "\n",
      "[[3]]\n",
      "[1] 0.25\n",
      "\n",
      "[[4]]\n",
      "[1] 0.5625\n",
      "\n",
      "[[5]]\n",
      "[1] 1\n",
      "\n"
     ]
    }
   ],
   "source": [
    "# Keep as code cell and indent the part in braces with indent shortcut\n",
    "library(foreach)\n",
    "\n",
    "x <- foreach(i = seq(0, 1, by = 0.25)) %do% {\n",
    "y <- i^2 # indent me!\n",
    "}\n",
    "\n",
    "print(x)"
   ]
  },
  {
   "cell_type": "markdown",
   "metadata": {
    "ExecuteTime": {
     "end_time": "2016-06-26T12:14:23.041527",
     "start_time": "2016-06-26T19:14:22.949Z"
    }
   },
   "source": [
    "\n",
    "\n",
    "## What I learned after reading the [IPython introductory paper](https://web.archive.org/web/20100602042637/http:/fperez.org/papers/ipython07_pe-gr_cise.pdf) by Fernando Perez\n",
    "\n",
    "Originating in 2001, it was created initially by Perez as an enhanced interactive python shell. \n",
    " \n",
    "IPython was initially created to fill a need for an enhancement to the Python interpreter.  Something that could (in addition to simply running snippets of code line by line):\n"
   ]
  },
  {
   "cell_type": "markdown",
   "metadata": {},
   "source": [
    "1. Retain access to the environment's state\n",
    "* Include a control system\n",
    "* Perform OS-level actions\n",
    "* Perform introspection and help\n",
    "* Execute and debug apps within its interface"
   ]
  },
  {
   "cell_type": "markdown",
   "metadata": {},
   "source": [
    "As an aside, it was so good at OS-level actions that some Windows users adopted it in place of the native command prompt."
   ]
  },
  {
   "cell_type": "markdown",
   "metadata": {},
   "source": [
    "In December of 2011, Perez, Brian Granger and Min Ragan-Kelley figured out a way to convert the interactive shell into a browser with \"cells\" where code is executed.  Also, there are \"cells\" specifically for markdown text."
   ]
  },
  {
   "cell_type": "markdown",
   "metadata": {},
   "source": [
    "## An option to display an image\n",
    "* **`IRdisplay`** resolves some display issues (along with other techniques we'll see later...)"
   ]
  },
  {
   "cell_type": "code",
   "execution_count": 3,
   "metadata": {
    "collapsed": false
   },
   "outputs": [
    {
     "data": {
      "text/html": [
       "<img width = 200 src = 'http://pages.discovery.wisc.edu/~avelten/images/zebrafish_brain_10x.jpeg'>"
      ]
     },
     "metadata": {},
     "output_type": "display_data"
    }
   ],
   "source": [
    "IRdisplay::display_html(\"<img width = 200 src = 'http://pages.discovery.wisc.edu/~avelten/images/zebrafish_brain_10x.jpeg'>\")"
   ]
  },
  {
   "cell_type": "markdown",
   "metadata": {},
   "source": [
    "## The R kernel is a younger cousing of the python kernel\n",
    "\n",
    "The R kernel (IRkernel) is a much, much newer project with it's **first** release of 0.1 on Mar 5, 2015 (source: https://github.com/IRkernel/IRkernel/releases)\n",
    "* No magics ((the ability to leverage other languages/process types in IPython) for the R kernel and probably never...they'd have to resolve the modulus to magic indicator conflict (`%%`)\n",
    "* However, R code can be run from within a python flavored notebook using a python library `rpy2` and looks something like (this is currently a common option for **combining the IPython features with R** in academic pubs): \n",
    "\n",
    "<img width = 700 src = 'images/03_Image_Analysis_with_k-Means/rpy2.png'>\n",
    "\n",
    "The jupyter **notebook above** can be found at the github repo [here](https://github.com/michhar/rpy2_sample_notebooks).  There is also a [blog](http://blog.revolutionanalytics.com/2016/01/pipelining-r-python.html) about the idea of pipelining R and python in practice (**caveat**: don't try pipelining on big data; useful for prototyping or Mb - Gb datasets)."
   ]
  },
  {
   "cell_type": "markdown",
   "metadata": {
    "slideshow": {
     "slide_type": "slide"
    }
   },
   "source": [
    "## On the jupyter project's hopeful future in data science\n",
    "\n",
    "\"Jupyter is an amazing project that feeds and rides the rising wave of data science.\"  \n",
    "- quote from article by Alex Perrier [here](https://www.opendatascience.com/blog/jupyter-zeppelin-beaker-the-rise-of-the-notebooks/)"
   ]
  },
  {
   "cell_type": "markdown",
   "metadata": {
    "collapsed": true
   },
   "source": [
    "## Resources\n",
    "\n",
    "### Markdown\n",
    "\n",
    "1.  Markdown cheatsheet:  https://github.com/adam-p/markdown-here/wiki/Markdown-Cheatsheet\n",
    "* John Gruber's markdown guide:  http://daringfireball.net/projects/markdown/syntax\n",
    "\n",
    "### Orignial IPython Article by F. Perez\n",
    "\n",
    "* https://web.archive.org/web/20100602042637/http:/fperez.org/papers/ipython07_pe-gr_cise.pdf\n",
    "\n"
   ]
  },
  {
   "cell_type": "code",
   "execution_count": null,
   "metadata": {
    "collapsed": true
   },
   "outputs": [],
   "source": []
  }
 ],
 "metadata": {
  "celltoolbar": "Slideshow",
  "kernelspec": {
   "display_name": "R",
   "language": "R",
   "name": "ir"
  },
  "language_info": {
   "codemirror_mode": "r",
   "file_extension": ".r",
   "mimetype": "text/x-r-source",
   "name": "R",
   "pygments_lexer": "r",
   "version": "3.2.2"
  },
  "nav_menu": {},
  "toc": {
   "navigate_menu": true,
   "number_sections": true,
   "sideBar": true,
   "threshold": 6,
   "toc_cell": false,
   "toc_section_display": "block",
   "toc_window_display": false
  }
 },
 "nbformat": 4,
 "nbformat_minor": 0
}
