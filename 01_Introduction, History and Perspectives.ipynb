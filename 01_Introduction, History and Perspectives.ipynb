{
 "cells": [
  {
   "cell_type": "markdown",
   "metadata": {
    "slideshow": {
     "slide_type": "slide"
    }
   },
   "source": [
    "# Introduction and Perspectives"
   ]
  },
  {
   "cell_type": "markdown",
   "metadata": {
    "slideshow": {
     "slide_type": "slide"
    }
   },
   "source": [
    "Code, data, and text all accessible from one file viewed in a browser, living locally or in the cloud.  The text is written in markdown, making it a rich format with inserting latex, links, images and html, too (because we're in a browser).  In 2014, there were 80,000 jupyter notebooks on github.  In 2015 the number almost tripled to 230,000.  This shows how popular and fast-growing the usage is in the community. \n",
    "\n",
    "- github numbers from article by Alex Perrier [here](https://www.opendatascience.com/blog/jupyter-zeppelin-beaker-the-rise-of-the-notebooks/)"
   ]
  },
  {
   "cell_type": "markdown",
   "metadata": {},
   "source": [
    "## What I learned after reading the original [IPython paper]( by Fernando Perez\n",
    "\n",
    "Originating in 2001, it was created initially by Perez as an enhanced interactive python shell. \n",
    " \n",
    "IPython was initially created to fill a need for an enhancement to the Python interpreter.  Something that could in addition to simply running snippets of code:\n",
    "\n",
    "1. Retain access to the environment's state\n",
    "\n",
    "* Include a control system\n",
    "\n",
    "* Perform OS-level actions\n",
    "\n",
    "* Perform introspection and help\n",
    "\n",
    "* Execute and debug apps within its interface\n",
    " \n",
    "As an aside, it was so good at OS-level actions that some Windows users adopted it in place of the native command prompt.\n",
    "\n",
    "In December of 2011, Perez, Brian Granger and Min Ragan-Kelley figured out a way to convert the interactive shell into a browser with \"cells\" where code is executed.  Also, there are \"cells\" specifically for markdown text."
   ]
  },
  {
   "cell_type": "markdown",
   "metadata": {},
   "source": [
    "## Some important dates\n",
    "\n",
    "\n",
    "\n",
    "| Date        | Event           |\n",
    "| ------------- |:-------------:|\n",
    "| 2001      | Interactive shell was created and IPython project began |\n",
    "| 2011      | Interactive notebook was released      |\n",
    "| zebra stripes | are neat      |"
   ]
  },
  {
   "cell_type": "markdown",
   "metadata": {
    "slideshow": {
     "slide_type": "slide"
    }
   },
   "source": [
    "## On the jupyter project's hopeful future in data science\n",
    "\n",
    "\"Jupyter is an amazing project that feeds and rides the rising wave of data science.\"  \n",
    "- quote from article by Alex Perrier [here](https://www.opendatascience.com/blog/jupyter-zeppelin-beaker-the-rise-of-the-notebooks/)"
   ]
  },
  {
   "cell_type": "code",
   "execution_count": null,
   "metadata": {
    "collapsed": true
   },
   "outputs": [],
   "source": []
  }
 ],
 "metadata": {
  "kernelspec": {
   "display_name": "R",
   "language": "R",
   "name": "ir"
  },
  "language_info": {
   "codemirror_mode": "r",
   "file_extension": ".r",
   "mimetype": "text/x-r-source",
   "name": "R",
   "pygments_lexer": "r",
   "version": "3.2.2"
  }
 },
 "nbformat": 4,
 "nbformat_minor": 0
}
