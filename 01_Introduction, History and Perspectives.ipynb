{
 "cells": [
  {
   "cell_type": "markdown",
   "metadata": {
    "slideshow": {
     "slide_type": "slide"
    }
   },
   "source": [
    "# Introduction and Perspectives"
   ]
  },
  {
   "cell_type": "markdown",
   "metadata": {
    "slideshow": {
     "slide_type": "slide"
    }
   },
   "source": [
    "Code, data, and text all accessible from one file viewed in a browser, living locally or in the cloud.  The text is written in markdown, making it a rich format with inserting latex, links, images and html, too (because we're in a browser).  In 2014, there were 80,000 jupyter notebooks on github.  In 2015 the number almost tripled to 230,000.  This shows how popular and fast-growing the usage is in the community. "
   ]
  },
  {
   "cell_type": "markdown",
   "metadata": {
    "slideshow": {
     "slide_type": "slide"
    }
   },
   "source": [
    "## On the jupyter project's hopeful future in data science\n",
    "\n",
    "\"Jupyter is an amazing project that feeds and rides the rising wave of data science.\"  \n",
    "\" In the past year, the number of ipynb files on github has nearly tripled from 80,000 to over 230,000 files.\" \n",
    "- from https://www.opendatascience.com/blog/jupyter-zeppelin-beaker-the-rise-of-the-notebooks/ by Alex Perrier"
   ]
  },
  {
   "cell_type": "code",
   "execution_count": null,
   "metadata": {
    "collapsed": true
   },
   "outputs": [],
   "source": []
  }
 ],
 "metadata": {
  "kernelspec": {
   "display_name": "R",
   "language": "R",
   "name": "ir"
  },
  "language_info": {
   "codemirror_mode": "r",
   "file_extension": ".r",
   "mimetype": "text/x-r-source",
   "name": "R",
   "pygments_lexer": "r",
   "version": "3.2.2"
  }
 },
 "nbformat": 4,
 "nbformat_minor": 0
}
