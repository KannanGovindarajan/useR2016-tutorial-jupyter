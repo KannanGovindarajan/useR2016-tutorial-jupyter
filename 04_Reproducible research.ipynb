{
 "cells": [
  {
   "cell_type": "markdown",
   "metadata": {
    "slideshow": {
     "slide_type": "slide"
    }
   },
   "source": [
    "# Reproducible research"
   ]
  },
  {
   "cell_type": "markdown",
   "metadata": {},
   "source": [
    "# Definition\n",
    "\n",
    "> The goal of reproducible research is to tie specific instructions to data analysis and experimental data so that scholarship can be recreated, better understood and verified.\n",
    "\n",
    "Source: [CRAN Taskview](https://cran.r-project.org/web/views/ReproducibleResearch.html)"
   ]
  },
  {
   "cell_type": "markdown",
   "metadata": {
    "slideshow": {
     "slide_type": "slide"
    }
   },
   "source": [
    "# Literate programming\n",
    "\n",
    "* A new approach to programming, introduced by Donald Knuth\n",
    "* Programme is in natural language, e.g. English\n",
    "* Interspersed with macros that contain machine instructions\n"
   ]
  },
  {
   "cell_type": "markdown",
   "metadata": {
    "slideshow": {
     "slide_type": "slide"
    }
   },
   "source": [
    "# Example\n",
    "\n",
    "```\n",
    "The purpose of wc is to count lines, words, and/or characters in a list of files. The\n",
    "number of lines in a file is ......../more explanations/\n",
    "\n",
    "Here, then, is an overview of the file wc.c that is defined by the noweb program wc.nw:\n",
    "    <<*>>=\n",
    "    <<Header files to include>>\n",
    "    <<Definitions>>\n",
    "    <<Global variables>>\n",
    "    <<Functions>>\n",
    "    <<The main program>>\n",
    "    @\n",
    "\n",
    "We must include the standard I/O definitions, since we want to send formatted output\n",
    "to stdout and stderr.\n",
    "    <<Header files to include>>=\n",
    "    #include <stdio.h>\n",
    "    @\n",
    "```"
   ]
  },
  {
   "cell_type": "markdown",
   "metadata": {
    "slideshow": {
     "slide_type": "slide"
    }
   },
   "source": [
    "# From LaTex to Notebooks\n",
    "\n",
    "First there was LaTex\n",
    "\n",
    "Then knitr emerged, followed by rmarkdown\n",
    "\n",
    "Jupyter Notebooks followed a different evolutionary path"
   ]
  },
  {
   "cell_type": "markdown",
   "metadata": {
    "slideshow": {
     "slide_type": "slide"
    }
   },
   "source": [
    "# Markdown vs Notebooks\n",
    "\n",
    "Markdown | Notebooks\n",
    "-------- | ---------\n",
    "Runs in IDE            | Runs in web browser\n",
    "R embedded in markdown | Markdown and R both embedded in ipynb\n",
    "Static                 | Interactive\n",
    "Better for publishing  | Better for exploration"
   ]
  }
 ],
 "metadata": {
  "celltoolbar": "Slideshow",
  "kernelspec": {
   "display_name": "R",
   "language": "R",
   "name": "ir"
  },
  "language_info": {
   "codemirror_mode": "r",
   "file_extension": ".r",
   "mimetype": "text/x-r-source",
   "name": "R",
   "pygments_lexer": "r",
   "version": "3.2.2"
  }
 },
 "nbformat": 4,
 "nbformat_minor": 0
}
