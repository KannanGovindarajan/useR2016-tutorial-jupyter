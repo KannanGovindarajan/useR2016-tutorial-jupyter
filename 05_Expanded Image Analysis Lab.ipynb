{
 "cells": [
  {
   "cell_type": "markdown",
   "metadata": {},
   "source": [
    "# Expanded Image Analysis Lab"
   ]
  },
  {
   "cell_type": "markdown",
   "metadata": {},
   "source": [
    "## Instructions\n",
    "Using one of these packages:\n",
    "1. imager \n",
    "2. EBImage from bioc \n",
    "3. ripa \n",
    "4. adimpro\n",
    "\n",
    "\n",
    "Options are:\n",
    "\n",
    "[tasks here]\n",
    "\n",
    "With one or more of these images  (or use your own):\n",
    "\n",
    "[image choices from web and sample images folder]\n",
    "\n"
   ]
  },
  {
   "cell_type": "markdown",
   "metadata": {
    "collapsed": true
   },
   "source": [
    "perform an image processing task and then visualize."
   ]
  },
  {
   "cell_type": "code",
   "execution_count": 3,
   "metadata": {
    "ExecuteTime": {
     "end_time": "2016-06-26T03:27:03.478376",
     "start_time": "2016-06-26T10:27:02.457Z"
    },
    "collapsed": false
   },
   "outputs": [
    {
     "ename": "ERROR",
     "evalue": "Error in eval(expr, envir, enclos): could not find function \"readPNG\"\n",
     "output_type": "error",
     "traceback": [
      "Error in eval(expr, envir, enclos): could not find function \"readPNG\"\n"
     ]
    },
    {
     "ename": "ERROR",
     "evalue": "Error in matrix(imgX, nrow(imgX) * ncol(imgX), 1): object 'imgX' not found\n",
     "output_type": "error",
     "traceback": [
      "Error in matrix(imgX, nrow(imgX) * ncol(imgX), 1): object 'imgX' not found\n"
     ]
    },
    {
     "ename": "ERROR",
     "evalue": "Error in coef(lm.mod.1): object 'lm.mod.1' not found\n",
     "output_type": "error",
     "traceback": [
      "Error in coef(lm.mod.1): object 'lm.mod.1' not found\n"
     ]
    },
    {
     "ename": "ERROR",
     "evalue": "Error in y[y < 0] = 0: object 'y' not found\n",
     "output_type": "error",
     "traceback": [
      "Error in y[y < 0] = 0: object 'y' not found\n"
     ]
    },
    {
     "ename": "ERROR",
     "evalue": "Error in y[y > 1] = 1: object 'y' not found\n",
     "output_type": "error",
     "traceback": [
      "Error in y[y > 1] = 1: object 'y' not found\n"
     ]
    },
    {
     "ename": "ERROR",
     "evalue": "Error in matrix(y, nrow(imgX), ncol(imgX)): object 'y' not found\n",
     "output_type": "error",
     "traceback": [
      "Error in matrix(y, nrow(imgX), ncol(imgX)): object 'y' not found\n"
     ]
    },
    {
     "ename": "ERROR",
     "evalue": "Error in eval(expr, envir, enclos): could not find function \"data.table\"\n",
     "output_type": "error",
     "traceback": [
      "Error in eval(expr, envir, enclos): could not find function \"data.table\"\n"
     ]
    },
    {
     "ename": "ERROR",
     "evalue": "Error in eval(expr, envir, enclos): object 'img.dt' not found\n",
     "output_type": "error",
     "traceback": [
      "Error in eval(expr, envir, enclos): object 'img.dt' not found\n"
     ]
    },
    {
     "ename": "ERROR",
     "evalue": "Error in eval(expr, envir, enclos): could not find function \"setnames\"\n",
     "output_type": "error",
     "traceback": [
      "Error in eval(expr, envir, enclos): could not find function \"setnames\"\n"
     ]
    },
    {
     "ename": "ERROR",
     "evalue": "Error in eval(expr, envir, enclos): could not find function \"setnames\"\n",
     "output_type": "error",
     "traceback": [
      "Error in eval(expr, envir, enclos): could not find function \"setnames\"\n"
     ]
    },
    {
     "ename": "ERROR",
     "evalue": "Error in is.data.frame(x): object 'img.dt' not found\n",
     "output_type": "error",
     "traceback": [
      "Error in is.data.frame(x): object 'img.dt' not found\n"
     ]
    }
   ],
   "source": [
    "library(jpeg)\n",
    "\n",
    "imgX = readPNG(file.path(images, \"5_Expanded_Image_Analysis_Lab\", \"poor_image.jpg\"))\n",
    "x = matrix(imgX, nrow(imgX) * ncol(imgX), 1)\n",
    "y = coef(lm.mod.1)[1] + coef(lm.mod.1)[2] * x\n",
    "y[y < 0] = 0\n",
    "y[y > 1] = 1\n",
    "img = matrix(y, nrow(imgX), ncol(imgX))\n",
    "img.dt=data.table(melt(img))\n",
    "names.dt<-names(img.dt)\n",
    "setnames(img.dt,names.dt[1],\"X1\")\n",
    "setnames(img.dt,names.dt[2],\"X2\")\n",
    "# img.dt[,id:= \"1\"]\n",
    "write.table(img.dt[,c(\"id\",\"value\"),with=FALSE], file = \"submission.csv\", sep = \",\",col.names = (f == filenames[1]),row.names = FALSE, quote = FALSE, append = (f != filenames[1]))\n",
    "    "
   ]
  },
  {
   "cell_type": "markdown",
   "metadata": {
    "collapsed": true
   },
   "source": [
    "## NNs\n",
    "\n",
    "* On visualizing NNs: https://beckmw.wordpress.com/tag/nnet/\n"
   ]
  },
  {
   "cell_type": "code",
   "execution_count": null,
   "metadata": {
    "collapsed": true
   },
   "outputs": [],
   "source": []
  }
 ],
 "metadata": {
  "kernelspec": {
   "display_name": "R",
   "language": "R",
   "name": "ir"
  },
  "language_info": {
   "codemirror_mode": "r",
   "file_extension": ".r",
   "mimetype": "text/x-r-source",
   "name": "R",
   "pygments_lexer": "r",
   "version": "3.2.2"
  },
  "nav_menu": {},
  "toc": {
   "navigate_menu": true,
   "number_sections": true,
   "sideBar": true,
   "threshold": 6,
   "toc_cell": false,
   "toc_section_display": "block",
   "toc_window_display": false
  }
 },
 "nbformat": 4,
 "nbformat_minor": 0
}
