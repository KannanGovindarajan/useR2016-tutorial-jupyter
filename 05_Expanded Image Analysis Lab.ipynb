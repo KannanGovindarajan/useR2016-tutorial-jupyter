{
 "cells": [
  {
   "cell_type": "markdown",
   "metadata": {
    "slideshow": {
     "slide_type": "slide"
    }
   },
   "source": [
    "# Expanded Image Analysis Lab"
   ]
  },
  {
   "cell_type": "markdown",
   "metadata": {
    "slideshow": {
     "slide_type": "slide"
    }
   },
   "source": [
    "## Intro\n",
    "Image segmentation can be useful for edge detection.  You saw how to segment images with k-Means awhile ago.  Now, expand upon that by thinking through the process with the eventual goal being able to perform edge detection on objects and detect their shape.  \n",
    "\n",
    "The step you may want to take after that is image recognition, but we'll leave that for homework."
   ]
  },
  {
   "cell_type": "markdown",
   "metadata": {
    "slideshow": {
     "slide_type": "slide"
    }
   },
   "source": [
    "## Goals for lab\n",
    "* Become comfortable building out a solution in notebooks with R\n",
    "* Become comfortable building out a solution to a problem which could be repeated\n",
    "* Gain/regain the experience of a \"hackathon\" style lab involving collaboration\n",
    "* Become more comfortable and familiar with the notebook shortcuts\n",
    "* Possibly discover some pain points of using notebooks for this situation (hopefully not many!)"
   ]
  },
  {
   "cell_type": "markdown",
   "metadata": {
    "slideshow": {
     "slide_type": "slide"
    }
   },
   "source": [
    "## Instructions\n",
    "\n",
    "**PART 1.** Think through a general process of finding edges or borders in an image.  If it's helpful think of it in the context of these pictures:\n",
    "\n",
    "<table>\n",
    "\n",
    "<td><img width = 300 src = 'images/05_Expanded_Image_Analysis_Lab/hummingbird_mharris.jpg'></td>\n",
    "<td><img width = 300 src = 'images/05_Expanded_Image_Analysis_Lab/a_query.jpg'></td>\n",
    "<td><img width = 300 src = 'images/05_Expanded_Image_Analysis_Lab/whidbey_mharris.jpg'></td>\n",
    "\n",
    "</table>"
   ]
  },
  {
   "cell_type": "markdown",
   "metadata": {
    "ExecuteTime": {
     "end_time": "2016-06-26T22:38:49.867072",
     "start_time": "2016-06-27T05:38:49.805Z"
    },
    "slideshow": {
     "slide_type": "slide"
    }
   },
   "source": [
    "These pictures live in the following folders.  Don't worry, these personal photos are not copywrited.  Their file names are (including folder) are:\n",
    "\n",
    "* images/05_Expanded_Image_Analysis_Lab/hummingbird_mharris.jpg\n",
    "* images/05_Expanded_Image_Analysis_Lab/a_query.jpg\n",
    "* images/05_Expanded_Image_Analysis_Lab/whidbey_mharris.jpg"
   ]
  },
  {
   "cell_type": "markdown",
   "metadata": {
    "slideshow": {
     "slide_type": "subslide"
    }
   },
   "source": [
    "> Bonus points to those who also figure out how to rotate the middle image clockwise by 90 degrees."
   ]
  },
  {
   "cell_type": "markdown",
   "metadata": {
    "collapsed": true,
    "slideshow": {
     "slide_type": "slide"
    }
   },
   "source": [
    "**PART 2.** Clean the image data (from standardization to denoising and removing background)\n",
    "\n",
    "Here's a nice blog on centering and standardizing [from Joel Cadwell here](http://www.r-bloggers.com/centering-and-standardizing-dont-confuse-your-rows-with-your-columns/).\n",
    "\n",
    "Check out [this kaggle set of R scripts](https://www.kaggle.com/c/denoising-dirty-documents/scripts?language=R) on \"denoising dirty documents\" or subtracting out background(s)."
   ]
  },
  {
   "cell_type": "markdown",
   "metadata": {
    "slideshow": {
     "slide_type": "slide"
    }
   },
   "source": [
    "**PART 3. (optional)**  Perform an image feature engineering/importance task \n",
    "\n",
    "One great way to do feature engineering is through dimensionality reduction with PCA, for instance.  Here's a small guide on [PCA from Quick-R](http://www.statmethods.net/advstats/factor.html)."
   ]
  },
  {
   "cell_type": "markdown",
   "metadata": {
    "slideshow": {
     "slide_type": "slide"
    }
   },
   "source": [
    "**PART 4.**  Perform image processing task such as segmentation (we saw k-Means earlier)\n",
    "\n",
    "Ryan Walker wrote a marvelous blog [post](http://www.r-bloggers.com/color-quantization-in-r/) on color quantization in R.  It includes a great section on image segmentation.  Give this a try on your image(s)."
   ]
  },
  {
   "cell_type": "markdown",
   "metadata": {
    "slideshow": {
     "slide_type": "slide"
    }
   },
   "source": [
    "## Image processing and/or analysis packages to check out now or later\n",
    "1. imager \n",
    "2. EBImage from bioc \n",
    "3. ripa \n",
    "4. adimpro"
   ]
  },
  {
   "cell_type": "markdown",
   "metadata": {
    "slideshow": {
     "slide_type": "slide"
    }
   },
   "source": [
    "## Remember your machine learning options from  CRAN\n",
    "* https://cran.r-project.org/web/views/MachineLearning.html"
   ]
  },
  {
   "cell_type": "markdown",
   "metadata": {
    "collapsed": true,
    "slideshow": {
     "slide_type": "subslide"
    }
   },
   "source": [
    "## If you happen to choose NNs..\n",
    "* Here's info on how to visualize them (and implement with a few different packages) https://beckmw.wordpress.com/tag/nnet/\n"
   ]
  },
  {
   "cell_type": "markdown",
   "metadata": {
    "collapsed": true,
    "slideshow": {
     "slide_type": "slide"
    }
   },
   "source": [
    "## Remember To Save Often (and to take \"home\" or share, download it)"
   ]
  }
 ],
 "metadata": {
  "celltoolbar": "Slideshow",
  "kernelspec": {
   "display_name": "R",
   "language": "R",
   "name": "ir"
  },
  "language_info": {
   "codemirror_mode": "r",
   "file_extension": ".r",
   "mimetype": "text/x-r-source",
   "name": "R",
   "pygments_lexer": "r",
   "version": "3.2.2"
  },
  "nav_menu": {},
  "toc": {
   "navigate_menu": true,
   "number_sections": true,
   "sideBar": true,
   "threshold": 6,
   "toc_cell": false,
   "toc_section_display": "block",
   "toc_window_display": false
  }
 },
 "nbformat": 4,
 "nbformat_minor": 0
}
