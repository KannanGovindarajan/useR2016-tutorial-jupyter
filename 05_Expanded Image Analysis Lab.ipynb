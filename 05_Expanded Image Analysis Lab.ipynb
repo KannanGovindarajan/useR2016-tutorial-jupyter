{
 "cells": [
  {
   "cell_type": "markdown",
   "metadata": {},
   "source": [
    "# Expanded Image Analysis Lab"
   ]
  },
  {
   "cell_type": "markdown",
   "metadata": {},
   "source": [
    "## Instructions\n",
    "Using one of these packages:\n",
    "1. imager \n",
    "2. EBImage from bioc \n",
    "3. ripa \n",
    "4. adimpro\n",
    "\n",
    "perform an image processing task and then analysis task.\n",
    "\n",
    "Options are:\n",
    "\n",
    "[tasks here]\n",
    "\n",
    "With one or more of these images  (or use your own):\n",
    "\n",
    "[image choices from web and sample images folder]\n",
    "\n"
   ]
  },
  {
   "cell_type": "code",
   "execution_count": null,
   "metadata": {
    "collapsed": true
   },
   "outputs": [],
   "source": []
  },
  {
   "cell_type": "code",
   "execution_count": null,
   "metadata": {
    "collapsed": true
   },
   "outputs": [],
   "source": []
  }
 ],
 "metadata": {
  "kernelspec": {
   "display_name": "R",
   "language": "R",
   "name": "ir"
  },
  "language_info": {
   "codemirror_mode": "r",
   "file_extension": ".r",
   "mimetype": "text/x-r-source",
   "name": "R",
   "pygments_lexer": "r",
   "version": "3.2.2"
  }
 },
 "nbformat": 4,
 "nbformat_minor": 0
}
