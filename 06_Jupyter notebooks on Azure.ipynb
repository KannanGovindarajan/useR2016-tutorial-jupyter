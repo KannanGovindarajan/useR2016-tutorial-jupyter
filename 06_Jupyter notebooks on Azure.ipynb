{
 "cells": [
  {
   "cell_type": "markdown",
   "metadata": {
    "slideshow": {
     "slide_type": "slide"
    }
   },
   "source": [
    "# Jupyter notebooks on Azure"
   ]
  },
  {
   "cell_type": "markdown",
   "metadata": {
    "collapsed": true,
    "slideshow": {
     "slide_type": "slide"
    }
   },
   "source": [
    "# Azure is the Microsoft cloud\n",
    "\n",
    "Multiple components:\n",
    "\n",
    "* Platform as a service (PAAS)\n",
    "  \n",
    "* Software as a service (SAAS)\n",
    "\n",
    "* Cortana intelligence"
   ]
  },
  {
   "cell_type": "markdown",
   "metadata": {
    "slideshow": {
     "slide_type": "slide"
    }
   },
   "source": [
    "# Azure concepts\n",
    "\n",
    "![](images/06_Notebooks_on_Azure/Azure_conceptual_view.png)"
   ]
  },
  {
   "cell_type": "markdown",
   "metadata": {
    "slideshow": {
     "slide_type": "slide"
    }
   },
   "source": [
    "# Platform as a service (PAAS)\n",
    "\n",
    "  - Virtual machines\n",
    "    * Linux, Windows\n",
    "    * Hadoop, e.g. HDInsights\n",
    "    * Data Science virtual machine\n",
    "    * etc\n",
    "  - Storage\n",
    "  - Use PAAS to scale out on demand but maintain full control\n",
    "  "
   ]
  },
  {
   "cell_type": "markdown",
   "metadata": {
    "slideshow": {
     "slide_type": "slide"
    }
   },
   "source": [
    "# Software as a service (SAAS)\n",
    "\n",
    "  - SQL DB\n",
    "  - PowerBI\n",
    "  - Cortana intelligence"
   ]
  },
  {
   "cell_type": "markdown",
   "metadata": {
    "slideshow": {
     "slide_type": "slide"
    }
   },
   "source": [
    "# Azure services\n",
    "\n",
    "![](images/06_Notebooks_on_Azure/Azure_services.png)"
   ]
  },
  {
   "cell_type": "markdown",
   "metadata": {
    "slideshow": {
     "slide_type": "slide"
    }
   },
   "source": [
    "# Azure datacenters around the world\n",
    "\n",
    "![](images/06_Notebooks_on_Azure/Azure_datacenters.png)"
   ]
  },
  {
   "cell_type": "markdown",
   "metadata": {
    "slideshow": {
     "slide_type": "slide"
    }
   },
   "source": [
    "# Cortana Intelligence Suite\n",
    "\n",
    "![](images/06_Notebooks_on_Azure/CIS.png)"
   ]
  },
  {
   "cell_type": "markdown",
   "metadata": {
    "slideshow": {
     "slide_type": "slide"
    }
   },
   "source": [
    "# Cortana Intelligence Suite (CIS)\n",
    "\n",
    "A set of services that allows you to build intelligence into applications\n",
    "\n",
    "* Azure Machine Learning Studio\n",
    "* Event hub\n",
    "* streaming analytics\n",
    "* Azure data factory\n",
    "* PowerBI\n",
    "* Microsoft R Server"
   ]
  },
  {
   "cell_type": "markdown",
   "metadata": {
    "slideshow": {
     "slide_type": "slide"
    }
   },
   "source": [
    "# Jupyter in Azure\n",
    "\n",
    "Jupyter allows you to expose R (and other languages) in a browser, giving a light-weight IDE experience without the user having to install any new software."
   ]
  },
  {
   "cell_type": "markdown",
   "metadata": {
    "slideshow": {
     "slide_type": "fragment"
    }
   },
   "source": [
    "This is useful in many applications. Two examples:\n",
    "\n",
    "* [Azure Machine Learning Studio](https://studio.azureml.net)\n",
    "* HD Insights (Hadoop)"
   ]
  },
  {
   "cell_type": "markdown",
   "metadata": {
    "slideshow": {
     "slide_type": "fragment"
    }
   },
   "source": [
    "Azure also exposes a dedicated Jupyter service\n",
    "\n",
    "* [Azure notebook service](https://notebooks.azure.net)"
   ]
  },
  {
   "cell_type": "markdown",
   "metadata": {
    "slideshow": {
     "slide_type": "fragment"
    }
   },
   "source": [
    "Finally, you can get a working Jupyter installation with the Data Science Virtual machine\n",
    "\n",
    "* https://azure.microsoft.com/en-us/documentation/articles/machine-learning-data-science-provision-vm/"
   ]
  },
  {
   "cell_type": "markdown",
   "metadata": {
    "slideshow": {
     "slide_type": "slide"
    }
   },
   "source": [
    "# The data science virtual machine\n",
    "\n",
    "The Data Science VM is a ready built environment that contains:\n",
    "\n",
    "* Microsoft R Server Developer Edition\n",
    "* Anaconda Python distribution\n",
    "* Visual Studio Community Edition\n",
    "* Power BI desktop\n",
    "* SQL Server Express edition\n",
    "* Azure SDK\n",
    "* and more\n",
    "\n",
    "Available on Windows as well as Linux (CentOS 7)\n",
    "\n",
    "* https://azure.microsoft.com/en-us/marketplace/partners/microsoft-ads/standard-data-science-vm/"
   ]
  },
  {
   "cell_type": "markdown",
   "metadata": {
    "slideshow": {
     "slide_type": "slide"
    }
   },
   "source": [
    "# Demonstration of Azure ML Studio and Jupyter\n",
    "\n",
    "<img src = \"images/06_Notebooks_on_Azure/AzureML.png\">"
   ]
  },
  {
   "cell_type": "markdown",
   "metadata": {
    "slideshow": {
     "slide_type": "slide"
    }
   },
   "source": [
    "# Questions?\n",
    "\n"
   ]
  }
 ],
 "metadata": {
  "celltoolbar": "Slideshow",
  "kernelspec": {
   "display_name": "R",
   "language": "R",
   "name": "ir"
  },
  "language_info": {
   "codemirror_mode": "r",
   "file_extension": ".r",
   "mimetype": "text/x-r-source",
   "name": "R",
   "pygments_lexer": "r",
   "version": "3.2.2"
  }
 },
 "nbformat": 4,
 "nbformat_minor": 0
}
