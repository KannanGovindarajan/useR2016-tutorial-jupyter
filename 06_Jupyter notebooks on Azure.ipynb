{
 "cells": [
  {
   "cell_type": "markdown",
   "metadata": {},
   "source": [
    "# Jupyter notebooks on Azure"
   ]
  },
  {
   "cell_type": "markdown",
   "metadata": {},
   "source": [
    "**Outline**\n",
    "\n",
    "* grab notebook from https://github.com/michhar/csvconf2016/blob/master/csvconfv2%20MHarris-R-kernel.ipynb which has commented out the imports for aml\n",
    "* grab images from https://github.com/michhar/csvconf2016/tree/master/imgs to guide through process of getting free aml studio account, list any notebooks, create a new notebooks, share the workspace with another person so they can access experiments and notebooks\n",
    "* show how to send intermediate and final datasets to an R-flavored notebook\n",
    "* et cetera"
   ]
  },
  {
   "cell_type": "code",
   "execution_count": null,
   "metadata": {
    "collapsed": true
   },
   "outputs": [],
   "source": []
  }
 ],
 "metadata": {
  "kernelspec": {
   "display_name": "R",
   "language": "R",
   "name": "ir"
  },
  "language_info": {
   "codemirror_mode": "r",
   "file_extension": ".r",
   "mimetype": "text/x-r-source",
   "name": "R",
   "pygments_lexer": "r",
   "version": "3.2.2"
  }
 },
 "nbformat": 4,
 "nbformat_minor": 0
}
