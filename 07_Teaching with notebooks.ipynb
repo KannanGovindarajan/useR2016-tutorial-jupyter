{
 "cells": [
  {
   "cell_type": "markdown",
   "metadata": {},
   "source": [
    "# Teaching, Training and Workshoping with Jupyter Notebooks"
   ]
  },
  {
   "cell_type": "markdown",
   "metadata": {},
   "source": [
    "outline\n",
    "* single user vs. multi-tenant like jupyterhub offering\n",
    "* motivation at beginning - teaser\n",
    "* labs and exercises interspersed throughout\n",
    "* have advanced exercises to keep the talented overacheivers satisfied\n",
    "* yes, stickies (red = I need help, green = I understand it and/or have completed the exercise)\n"
   ]
  },
  {
   "cell_type": "code",
   "execution_count": null,
   "metadata": {
    "collapsed": true
   },
   "outputs": [],
   "source": []
  }
 ],
 "metadata": {
  "kernelspec": {
   "display_name": "R",
   "language": "R",
   "name": "ir"
  },
  "language_info": {
   "codemirror_mode": "r",
   "file_extension": ".r",
   "mimetype": "text/x-r-source",
   "name": "R",
   "pygments_lexer": "r",
   "version": "3.2.2"
  }
 },
 "nbformat": 4,
 "nbformat_minor": 0
}
