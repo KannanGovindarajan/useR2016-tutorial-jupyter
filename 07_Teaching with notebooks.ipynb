{
 "cells": [
  {
   "cell_type": "markdown",
   "metadata": {},
   "source": [
    "# Teaching, Training and Workshoping with Jupyter Notebooks"
   ]
  },
  {
   "cell_type": "markdown",
   "metadata": {},
   "source": [
    "outline\n",
    "* survey before\n",
    "* single user vs. multi-tenant like jupyterhub offering\n",
    "* motivation at beginning - teaser\n",
    "* labs and exercises interspersed throughout\n",
    "* have advanced exercises to keep the talented overacheivers satisfied\n",
    "* yes, stickies (red = I need help, green = I understand it and/or have completed the exercise)\n",
    "* survey after\n"
   ]
  },
  {
   "cell_type": "markdown",
   "metadata": {
    "collapsed": true
   },
   "source": [
    "When planning out what will go in a cell (either as code or markdown), it's good practice thinking of it as a slide in a presentation since it might very well be or at the very least that mindset will lead one to break up text and code into more bite sized chunks."
   ]
  },
  {
   "cell_type": "code",
   "execution_count": null,
   "metadata": {
    "collapsed": true
   },
   "outputs": [],
   "source": []
  }
 ],
 "metadata": {
  "kernelspec": {
   "display_name": "R",
   "language": "R",
   "name": "ir"
  },
  "language_info": {
   "codemirror_mode": "r",
   "file_extension": ".r",
   "mimetype": "text/x-r-source",
   "name": "R",
   "pygments_lexer": "r",
   "version": "3.2.2"
  },
  "nav_menu": {},
  "toc": {
   "navigate_menu": true,
   "number_sections": true,
   "sideBar": true,
   "threshold": 6,
   "toc_cell": false,
   "toc_section_display": "block",
   "toc_window_display": false
  }
 },
 "nbformat": 4,
 "nbformat_minor": 0
}
