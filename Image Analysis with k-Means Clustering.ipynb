{
 "cells": [
  {
   "cell_type": "markdown",
   "metadata": {},
   "source": [
    "## Image Analysis with k-Means Clustering\n",
    "* Grouping pixels into k clusters"
   ]
  },
  {
   "cell_type": "markdown",
   "metadata": {},
   "source": [
    "**Download an image and read into a variable**"
   ]
  },
  {
   "cell_type": "code",
   "execution_count": 2,
   "metadata": {
    "collapsed": false
   },
   "outputs": [
    {
     "data": {
      "text/html": [
       "'R version 3.2.2 (2015-08-14)'"
      ],
      "text/latex": [
       "'R version 3.2.2 (2015-08-14)'"
      ],
      "text/markdown": [
       "'R version 3.2.2 (2015-08-14)'"
      ],
      "text/plain": [
       "[1] \"R version 3.2.2 (2015-08-14)\""
      ]
     },
     "execution_count": 2,
     "metadata": {},
     "output_type": "execute_result"
    }
   ],
   "source": [
    "R.version.string"
   ]
  },
  {
   "cell_type": "code",
   "execution_count": null,
   "metadata": {
    "collapsed": false
   },
   "outputs": [],
   "source": [
    "# load the package jpeg\n",
    "library(jpeg)\n",
    "url <- \"http://www.wall321.com/thumbnails/detail/20120304/colorful%20birds%20tropical%20head%203888x2558%20wallpaper_www.wall321.com_40.jpg\"\n",
    "\n",
    "# download the file and save it as \"Image.jpg\" in the current directory\n",
    "image.down <- download.file(url, \"image.jpg\")\n",
    "\n",
    "# read the image\n",
    "img <- readJPEG(\"image.jpg\") # Read the image"
   ]
  },
  {
   "cell_type": "markdown",
   "metadata": {},
   "source": [
    "**Clean up the data**"
   ]
  },
  {
   "cell_type": "code",
   "execution_count": null,
   "metadata": {
    "collapsed": true
   },
   "outputs": [],
   "source": [
    "# Obtain the dimension\n",
    "imgDm <- dim(img)\n",
    "\n",
    "# Assign RGB channels to data frame\n",
    "imgRGB <- data.frame(\n",
    "  x = rep(1:imgDm[2], each = imgDm[1]),\n",
    "  y = rep(imgDm[1]:1, imgDm[2]),\n",
    "  R = as.vector(img[,,1]),\n",
    "  G = as.vector(img[,,2]),\n",
    "  B = as.vector(img[,,3])\n",
    ")"
   ]
  },
  {
   "cell_type": "markdown",
   "metadata": {},
   "source": [
    "**Plot it**"
   ]
  },
  {
   "cell_type": "code",
   "execution_count": null,
   "metadata": {
    "collapsed": true
   },
   "outputs": [],
   "source": [
    "library(ggplot2)\n",
    "\n",
    "# ggplot theme to be used\n",
    "plotTheme <- function() {\n",
    "  theme(\n",
    "    panel.background = element_rect(\n",
    "      size = 3,\n",
    "      colour = \"black\",\n",
    "      fill = \"white\"),\n",
    "    axis.ticks = element_line(\n",
    "      size = 2),\n",
    "    panel.grid.major = element_line(\n",
    "      colour = \"gray80\",\n",
    "      linetype = \"dotted\"),\n",
    "    panel.grid.minor = element_line(\n",
    "      colour = \"gray90\",\n",
    "      linetype = \"dashed\"),\n",
    "    axis.title.x = element_text(\n",
    "      size = rel(1.2),\n",
    "      face = \"bold\"),\n",
    "    axis.title.y = element_text(\n",
    "      size = rel(1.2),\n",
    "      face = \"bold\"),\n",
    "    plot.title = element_text(\n",
    "      size = 20,\n",
    "      face = \"bold\",\n",
    "      vjust = 1.5)\n",
    "  )\n",
    "}\n",
    "\n",
    "# Plot the image\n",
    "ggplot(data = imgRGB, aes(x = x, y = y)) + \n",
    "  geom_point(colour = rgb(imgRGB[c(\"R\", \"G\", \"B\")])) +\n",
    "  labs(title = \"Original Image: Colorful Bird\") +\n",
    "  xlab(\"x\") +\n",
    "  ylab(\"y\") +\n",
    "  plotTheme()"
   ]
  },
  {
   "cell_type": "markdown",
   "metadata": {},
   "source": [
    "**Cluster it**"
   ]
  },
  {
   "cell_type": "code",
   "execution_count": null,
   "metadata": {
    "collapsed": true
   },
   "outputs": [],
   "source": [
    "kClusters <- 3\n",
    "kMeans <- kmeans(imgRGB[, c(\"R\", \"G\", \"B\")], centers = kClusters)\n",
    "kColours <- rgb(kMeans$centers[kMeans$cluster,])"
   ]
  },
  {
   "cell_type": "markdown",
   "metadata": {},
   "source": [
    "**Plot cluster results**"
   ]
  },
  {
   "cell_type": "code",
   "execution_count": null,
   "metadata": {
    "collapsed": true
   },
   "outputs": [],
   "source": [
    "ggplot(data = imgRGB, aes(x = x, y = y)) + \n",
    "  geom_point(colour = kColours) +\n",
    "  labs(title = paste(\"k-Means Clustering of\", kClusters, \"Colors\")) +\n",
    "  xlab(\"x\") +\n",
    "  ylab(\"y\") + \n",
    "  plotTheme()"
   ]
  }
 ],
 "metadata": {
  "kernelspec": {
   "display_name": "R",
   "language": "R",
   "name": "ir"
  },
  "language_info": {
   "codemirror_mode": "r",
   "file_extension": ".r",
   "mimetype": "text/x-r-source",
   "name": "R",
   "pygments_lexer": "r",
   "version": "3.2.2"
  }
 },
 "nbformat": 4,
 "nbformat_minor": 0
}
