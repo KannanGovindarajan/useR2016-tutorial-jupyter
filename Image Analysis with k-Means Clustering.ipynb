{
 "cells": [
  {
   "cell_type": "markdown",
   "metadata": {},
   "source": [
    "## Image Analysis with k-Means Clustering\n",
    "* Grouping pixels into k clusters"
   ]
  },
  {
   "cell_type": "markdown",
   "metadata": {},
   "source": [
    "**Download an image and read into a variable**"
   ]
  },
  {
   "cell_type": "code",
   "execution_count": 2,
   "metadata": {
    "collapsed": false
   },
   "outputs": [
    {
     "data": {
      "text/html": [
       "'R version 3.2.2 (2015-08-14)'"
      ],
      "text/latex": [
       "'R version 3.2.2 (2015-08-14)'"
      ],
      "text/markdown": [
       "'R version 3.2.2 (2015-08-14)'"
      ],
      "text/plain": [
       "[1] \"R version 3.2.2 (2015-08-14)\""
      ]
     },
     "execution_count": 2,
     "metadata": {},
     "output_type": "execute_result"
    }
   ],
   "source": [
    "R.version.string"
   ]
  },
  {
   "cell_type": "code",
   "execution_count": 3,
   "metadata": {
    "collapsed": false
   },
   "outputs": [
    {
     "ename": "ERROR",
     "evalue": "Error in library(jpeg): there is no package called ‘jpeg’\n",
     "output_type": "error",
     "traceback": [
      "Error in library(jpeg): there is no package called ‘jpeg’\n"
     ]
    },
    {
     "ename": "ERROR",
     "evalue": "Error in eval(expr, envir, enclos): could not find function \"readJPEG\"\n",
     "output_type": "error",
     "traceback": [
      "Error in eval(expr, envir, enclos): could not find function \"readJPEG\"\n"
     ]
    }
   ],
   "source": [
    "# Load the package\n",
    "library(jpeg)\n",
    "url <- \"http://www.wall321.com/thumbnails/detail/20120304/colorful%20birds%20tropical%20head%203888x2558%20wallpaper_www.wall321.com_40.jpg\"\n",
    "\n",
    "# Download the file and save it as \"Image.jpg\" in the directory\n",
    "dFile <- download.file(url, \"Image.jpg\")\n",
    "img <- readJPEG(\"Image.jpg\") # Read the image"
   ]
  },
  {
   "cell_type": "markdown",
   "metadata": {},
   "source": [
    "**Clean up the data**"
   ]
  },
  {
   "cell_type": "code",
   "execution_count": null,
   "metadata": {
    "collapsed": true
   },
   "outputs": [],
   "source": [
    "# Obtain the dimension\n",
    "imgDm <- dim(img)\n",
    "\n",
    "# Assign RGB channels to data frame\n",
    "imgRGB <- data.frame(\n",
    "  x = rep(1:imgDm[2], each = imgDm[1]),\n",
    "  y = rep(imgDm[1]:1, imgDm[2]),\n",
    "  R = as.vector(img[,,1]),\n",
    "  G = as.vector(img[,,2]),\n",
    "  B = as.vector(img[,,3])\n",
    "  )"
   ]
  },
  {
   "cell_type": "markdown",
   "metadata": {},
   "source": []
  }
 ],
 "metadata": {
  "kernelspec": {
   "display_name": "R",
   "language": "R",
   "name": "ir"
  },
  "language_info": {
   "codemirror_mode": "r",
   "file_extension": ".r",
   "mimetype": "text/x-r-source",
   "name": "R",
   "pygments_lexer": "r",
   "version": "3.2.2"
  }
 },
 "nbformat": 4,
 "nbformat_minor": 0
}
